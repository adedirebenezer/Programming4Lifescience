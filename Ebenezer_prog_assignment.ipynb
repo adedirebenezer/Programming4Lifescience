{
 "cells": [
  {
   "cell_type": "code",
   "execution_count": null,
   "id": "cleared-halloween",
   "metadata": {},
   "outputs": [],
   "source": [
    "trna='AAGGGCTTAGCTTAATTAAAGTGGCTGATTTGCGTTCAGTTGATGCAGAGTGGGGTTTTGCAGTCCTTA'\n",
    "A_count=trna.count('A')\n",
    "C_count=trna.count('C')\n",
    "G_count=trna.count('G')\n",
    "T_count=trna.count('T')"
   ]
  },
  {
   "cell_type": "code",
   "execution_count": null,
   "id": "unexpected-multiple",
   "metadata": {},
   "outputs": [],
   "source": [
    "AT_count=trna.count('A')+trna.count('T')\n",
    "perc_AT_count=AT_count/len(trna)*100\n",
    "print(perc_AT_count)"
   ]
  },
  {
   "cell_type": "code",
   "execution_count": null,
   "id": "brutal-sewing",
   "metadata": {},
   "outputs": [],
   "source": [
    "GC_count=trna.count('G')+trna.count('C')\n",
    "perc_GC_count=GC_count/len(trna)*100\n",
    "print(perc_GC_count)"
   ]
  },
  {
   "cell_type": "code",
   "execution_count": null,
   "id": "southeast-employment",
   "metadata": {},
   "outputs": [],
   "source": [
    "seq= 'MNKMDLVADVAEKTDLSKAKATEVIDAVFA'\n",
    "print('The first amino acid is', seq[0])\n",
    "print('The last amino acid is', seq[-1])\n",
    "print('The fifth amino acid is', seq[4])\n",
    "#Alternatively\n",
    "print (\"               OR               \")\n",
    "print('The first amino acid is %s' %seq[0])\n",
    "print('The last amino acid is %s' %seq[-1])\n",
    "print('The fifth amino acid %s' %seq[4])"
   ]
  },
  {
   "cell_type": "code",
   "execution_count": null,
   "id": "integrated-bacteria",
   "metadata": {},
   "outputs": [],
   "source": [
    "seq1= \"AAAAATCCCGAGGCGGCTATATAGGGCTCCGGAGGCGTAATATAAAA\"\n",
    "print (\"The first restriction site is \", seq1.find(\"TCCGGA\"))\n",
    "#Alternatively\n",
    "print (\"               OR               \")\n",
    "print (\"The first restriction site is %s\" %seq1.find(\"TCCGGA\"))"
   ]
  },
  {
   "cell_type": "code",
   "execution_count": null,
   "id": "amended-columbus",
   "metadata": {},
   "outputs": [],
   "source": [
    "DNA= \"AAAAATCCCGAGGCGGCTATATAGGGCTCCGGAGGCGTAATATAAAA\"\n",
    "print(\"The DNA Sequence is %s\" %DNA)\n",
    "DNA_reverse=DNA[::-1]\n",
    "print(\"The reverse DNA is %s\" %DNA_reverse)\n",
    "for i in DNA_reverse: \n",
    "    if (i=='T'):print('A', end=\"\")\n",
    "    elif (i=='A'):print('T', end=\"\")\n",
    "    elif (i=='G'):print('C', end=\"\")\n",
    "    elif (i=='C'):print('G', end=\"\") "
   ]
  },
  {
   "cell_type": "code",
   "execution_count": null,
   "id": "bronze-title",
   "metadata": {},
   "outputs": [],
   "source": [
    "x=0\n",
    "while x<6:\n",
    "    print(x)\n",
    "    x=x+1"
   ]
  },
  {
   "cell_type": "code",
   "execution_count": null,
   "id": "round-quantity",
   "metadata": {},
   "outputs": [],
   "source": [
    "x=6\n",
    "while x<11:\n",
    "    print(x)\n",
    "    x=x+1"
   ]
  },
  {
   "cell_type": "code",
   "execution_count": null,
   "id": "limiting-novel",
   "metadata": {},
   "outputs": [],
   "source": [
    "for x in range(4,11):\n",
    "    print(x)"
   ]
  },
  {
   "cell_type": "code",
   "execution_count": null,
   "id": "portuguese-apparel",
   "metadata": {},
   "outputs": [],
   "source": [
    "def gc_content(sequence):\n",
    "    if sequence != str:\n",
    "        print (\"sequence error\")\n",
    "        gc_count = sequence.count(\"G\") + sequence.count(\"C\")\n",
    "        gc_fraction = float(gc_count) / len(sequence)\n",
    "        return 100 * gc_fraction"
   ]
  }
 ],
 "metadata": {
  "kernelspec": {
   "display_name": "Python 3",
   "language": "python",
   "name": "python3"
  },
  "language_info": {
   "codemirror_mode": {
    "name": "ipython",
    "version": 3
   },
   "file_extension": ".py",
   "mimetype": "text/x-python",
   "name": "python",
   "nbconvert_exporter": "python",
   "pygments_lexer": "ipython3",
   "version": "3.8.5"
  }
 },
 "nbformat": 4,
 "nbformat_minor": 5
}
