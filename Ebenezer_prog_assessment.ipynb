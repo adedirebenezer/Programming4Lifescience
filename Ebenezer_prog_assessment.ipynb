{
 "cells": [
  {
   "cell_type": "code",
   "execution_count": 1,
   "id": "sweet-slope",
   "metadata": {},
   "outputs": [
    {
     "name": "stdout",
     "output_type": "stream",
     "text": [
      "TTTTATATTACGCCTCCGGAGCCCTATATAGCCGCCTCGGGATTTTT"
     ]
    }
   ],
   "source": [
    "#Write a function that reverse complements this sequence (10mks) DNA=\"ATCGATCGATCAGATTTAAACGGCATATCATAGCACGTACATGACG\"\n",
    "DNA= \"AAAAATCCCGAGGCGGCTATATAGGGCTCCGGAGGCGTAATATAAAA\"\n",
    "def reverse_complement(str):\n",
    "    for i in DNA[::-1]:\n",
    "        if (i=='T'):print('A', end=\"\")\n",
    "        elif (i=='A'):print('T', end=\"\")\n",
    "        elif (i=='G'):print('C', end=\"\")\n",
    "        elif (i=='C'):print('G', end=\"\")\n",
    "reverse_complement(DNA)"
   ]
  },
  {
   "cell_type": "code",
   "execution_count": 7,
   "id": "fixed-moscow",
   "metadata": {},
   "outputs": [
    {
     "name": "stdout",
     "output_type": "stream",
     "text": [
      "4\n",
      "5\n",
      "6\n",
      "7\n",
      "8\n",
      "9\n",
      "10\n"
     ]
    }
   ],
   "source": [
    "#Write a for loop that prints values 4-10 \n",
    "for x in range(4,11):\n",
    "    print(x)"
   ]
  },
  {
   "cell_type": "code",
   "execution_count": 2,
   "id": "entitled-questionnaire",
   "metadata": {},
   "outputs": [
    {
     "name": "stdout",
     "output_type": "stream",
     "text": [
      "0\n",
      "1\n",
      "2\n",
      "3\n",
      "4\n",
      "5\n"
     ]
    }
   ],
   "source": [
    "#Create a while loop that starts with x = 0 and increments x until x is equal to 5. Each iteration should print to the console\n",
    "x=0\n",
    "while x<6:\n",
    "    print(x)\n",
    "    x=x+1"
   ]
  },
  {
   "cell_type": "code",
   "execution_count": 3,
   "id": "approximate-shaft",
   "metadata": {},
   "outputs": [
    {
     "ename": "FileNotFoundError",
     "evalue": "[Errno 2] No such file or directory: 'file.fasta'",
     "output_type": "error",
     "traceback": [
      "\u001b[1;31m---------------------------------------------------------------------------\u001b[0m",
      "\u001b[1;31mFileNotFoundError\u001b[0m                         Traceback (most recent call last)",
      "\u001b[1;32m<ipython-input-3-dba7601f4a0d>\u001b[0m in \u001b[0;36m<module>\u001b[1;34m\u001b[0m\n\u001b[1;32m----> 1\u001b[1;33m \u001b[0mfile\u001b[0m \u001b[1;33m=\u001b[0m \u001b[0mopen\u001b[0m \u001b[1;33m(\u001b[0m\u001b[1;34m'file.fasta'\u001b[0m\u001b[1;33m)\u001b[0m\u001b[1;33m\u001b[0m\u001b[1;33m\u001b[0m\u001b[0m\n\u001b[0m\u001b[0;32m      2\u001b[0m \u001b[0mfile\u001b[0m\u001b[1;33m=\u001b[0m\u001b[0mfile\u001b[0m\u001b[1;33m.\u001b[0m\u001b[0mread\u001b[0m\u001b[1;33m(\u001b[0m\u001b[1;33m)\u001b[0m\u001b[1;33m\u001b[0m\u001b[1;33m\u001b[0m\u001b[0m\n\u001b[0;32m      3\u001b[0m \u001b[0mATG_count\u001b[0m\u001b[1;33m=\u001b[0m\u001b[0mfile\u001b[0m\u001b[1;33m.\u001b[0m\u001b[0mcount\u001b[0m\u001b[1;33m(\u001b[0m\u001b[1;34m\"ATG\"\u001b[0m\u001b[1;33m)\u001b[0m\u001b[1;33m\u001b[0m\u001b[1;33m\u001b[0m\u001b[0m\n\u001b[0;32m      4\u001b[0m \u001b[0mprint\u001b[0m\u001b[1;33m(\u001b[0m\u001b[0mATG_count\u001b[0m\u001b[1;33m)\u001b[0m\u001b[1;33m\u001b[0m\u001b[1;33m\u001b[0m\u001b[0m\n",
      "\u001b[1;31mFileNotFoundError\u001b[0m: [Errno 2] No such file or directory: 'file.fasta'"
     ]
    }
   ],
   "source": [
    "#Using a DNA sequence read from file, answer the following questions: (20mks) a)Show that the DNA string contains only four letters. b)In the DNA string there are regions that have a repeating letter. What is the letter and length of the longest repeating region? c)How many ’ATG’s are in the DNA string?\n",
    "file = open ('file.fasta')\n",
    "file=file.read()\n",
    "ATG_count=file.count(\"ATG\")\n",
    "print(ATG_count)"
   ]
  },
  {
   "cell_type": "code",
   "execution_count": 4,
   "id": "adult-agenda",
   "metadata": {},
   "outputs": [
    {
     "ename": "SyntaxError",
     "evalue": "invalid syntax (<ipython-input-4-6bd8f2536dc6>, line 2)",
     "output_type": "error",
     "traceback": [
      "\u001b[1;36m  File \u001b[1;32m\"<ipython-input-4-6bd8f2536dc6>\"\u001b[1;36m, line \u001b[1;32m2\u001b[0m\n\u001b[1;33m    NAME=${1?Error:no name given}\u001b[0m\n\u001b[1;37m         ^\u001b[0m\n\u001b[1;31mSyntaxError\u001b[0m\u001b[1;31m:\u001b[0m invalid syntax\n"
     ]
    }
   ],
   "source": [
    "#Create a bash script called hello.sh that takes a command line input of name, bash hello.sh Brian, prints\n",
    "#Hello Brian. How are you?\n",
    "NAME=${1?Error:no name given}\n",
    "echo -e \"Hello $NAME \\nHow are you?\""
   ]
  },
  {
   "cell_type": "code",
   "execution_count": 5,
   "id": "novel-distributor",
   "metadata": {},
   "outputs": [
    {
     "ename": "SyntaxError",
     "evalue": "invalid syntax (<ipython-input-5-76ef633993c7>, line 1)",
     "output_type": "error",
     "traceback": [
      "\u001b[1;36m  File \u001b[1;32m\"<ipython-input-5-76ef633993c7>\"\u001b[1;36m, line \u001b[1;32m1\u001b[0m\n\u001b[1;33m    grep -c \">\" Exam_dataset/SeqfromfileQ4.fasta grep -c \">\" Exam_dataset/sequence_3.fasta grep -c \">\" Exam_dataset/sequence_2.fasta grep -c \">\" Exam_dataset/sequence1.fasta\u001b[0m\n\u001b[1;37m            ^\u001b[0m\n\u001b[1;31mSyntaxError\u001b[0m\u001b[1;31m:\u001b[0m invalid syntax\n"
     ]
    }
   ],
   "source": [
    "#Write a script that counts the number of sequences in each fasta file in the Exam_dataset. It should print to console the name of the file and the number of sequences, each separated by a tab. For example, if sequence1.fasta has 10 sequences, it should print: sequence1.fasta: 10 (\n",
    "grep -c \">\" Exam_dataset/SeqfromfileQ4.fasta grep -c \">\" Exam_dataset/sequence_3.fasta grep -c \">\" Exam_dataset/sequence_2.fasta grep -c \">\" Exam_dataset/sequence1.fasta"
   ]
  },
  {
   "cell_type": "code",
   "execution_count": null,
   "id": "packed-blind",
   "metadata": {},
   "outputs": [],
   "source": []
  }
 ],
 "metadata": {
  "kernelspec": {
   "display_name": "Python 3",
   "language": "python",
   "name": "python3"
  },
  "language_info": {
   "codemirror_mode": {
    "name": "ipython",
    "version": 3
   },
   "file_extension": ".py",
   "mimetype": "text/x-python",
   "name": "python",
   "nbconvert_exporter": "python",
   "pygments_lexer": "ipython3",
   "version": "3.8.5"
  }
 },
 "nbformat": 4,
 "nbformat_minor": 5
}
